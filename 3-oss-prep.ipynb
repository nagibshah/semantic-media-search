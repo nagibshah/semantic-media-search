{
 "cells": [
  {
   "cell_type": "markdown",
   "id": "8da99093-37cc-482c-874d-c9abe572e068",
   "metadata": {},
   "source": [
    "# Open Search Serverless Collection creation\n",
    "This notebook demonstrates how to create an OpenSearch Serverless Collection using the AWS Python SDK (Boto3). OpenSearch Serverless is a fully managed service that makes it easy to launch and run OpenSearch clusters in the cloud. It simplifies the deployment and management of OpenSearch by automatically provisioning, configuring, and scaling the resources required to run OpenSearch\n",
    "\n",
    "In recent years, machine learning (ML) techniques have become increasingly popular to enhance search. Among them are the use of embedding models, a type of model that can encode a large body of data into an n-dimensional space where each entity is encoded into a vector, a data point in that space, and organized such that similar entities are closer together. An embedding model, for instance, could encode the semantics of a corpus.\n",
    "\n",
    "By searching for the vectors nearest to an encoded document — k-nearest neighbor (k-NN) search — you can find the most semantically similar documents. Sophisticated embedding models can support multiple modalities, for instance, encoding the image and text of a product catalog and enabling similarity matching on both modalities.\n",
    "\n",
    "With OpenSearch Service’s vector database capabilities, you can implement semantic search, Retrieval Augmented Generation (RAG) with LLMs, recommendation engines, and search rich media.\n",
    "\n"
   ]
  },
  {
   "cell_type": "markdown",
   "id": "6d21ee41-870b-43bf-ba4d-9d23bf50605e",
   "metadata": {},
   "source": [
    "## Install required libraries\n",
    "The following cell installs required python libraries specified in the 'requirements.txt' file."
   ]
  },
  {
   "cell_type": "code",
   "execution_count": 4,
   "id": "e275746b-7d5c-41f8-a78b-5dde5d8f85bb",
   "metadata": {},
   "outputs": [
    {
     "name": "stdout",
     "output_type": "stream",
     "text": [
      "\u001b[31mERROR: pip's dependency resolver does not currently take into account all the packages that are installed. This behaviour is the source of the following dependency conflicts.\n",
      "sparkmagic 0.21.0 requires pandas<2.0.0,>=0.17.1, but you have pandas 2.1.4 which is incompatible.\u001b[0m\u001b[31m\n",
      "\u001b[0m"
     ]
    }
   ],
   "source": [
    "#This cell installs the required libraries specified in the 'requirements.txt' file\n",
    "!pip install -r requirements.txt --quiet"
   ]
  },
  {
   "cell_type": "code",
   "execution_count": 5,
   "id": "76085b56-c600-4582-bf3b-8881df6563e1",
   "metadata": {},
   "outputs": [],
   "source": [
    "import os\n",
    "import pandas as pd\n",
    "import sagemaker\n",
    "import boto3\n",
    "import json\n",
    "import pprint\n",
    "import random \n",
    "from opensearchpy import OpenSearch, RequestsHttpConnection, AWSV4SignerAuth, helpers\n",
    "import time\n",
    "\n",
    "session = boto3.session.Session()\n",
    "region_name = session.region_name"
   ]
  },
  {
   "cell_type": "markdown",
   "id": "dd24b531-a9d2-4884-8ad5-3285ffbddf88",
   "metadata": {},
   "source": [
    "## Required permissions\n",
    "Your role or user will need a certain number of policies attached to execute the below code including AmazonBedrockFullAccess, AmazonOpenSearchServiceFullAccess, and the following policy for OpenSearchServerless. This policy grants full access to the OpenSearch Serverless service, allowing you to create, manage, and delete OpenSearch Serverless resources.\n",
    "\n",
    "```json\n",
    "{\n",
    "    \"Version\": \"2012-10-17\",\n",
    "    \"Statement\": [\n",
    "        {\n",
    "            \"Effect\": \"Allow\",\n",
    "            \"Action\": \"aoss:*\",\n",
    "            \"Resource\": \"*\"\n",
    "        }\n",
    "    ]\n",
    "}\n",
    "```\n",
    "\n",
    "The following cells creates this policy and assigns the policy to the current user or role. If running in sagemaker notebook the code will attempt to assign the policy to the sagemaker execution role. "
   ]
  },
  {
   "cell_type": "code",
   "execution_count": 6,
   "id": "8b253c01-f3d6-4c2b-9ce9-2eb74b4d6fce",
   "metadata": {},
   "outputs": [],
   "source": [
    "# Create an IAM client\n",
    "iam = boto3.client('iam')\n",
    "\n",
    "suffix = random.randrange(200, 900)\n",
    "\n",
    "# Define the policy document\n",
    "policy_document = {\n",
    "    \"Version\": \"2012-10-17\",\n",
    "    \"Statement\": [\n",
    "        {\n",
    "            \"Effect\": \"Allow\",\n",
    "            \"Action\": \"aoss:*\",\n",
    "            \"Resource\": \"*\"\n",
    "        }\n",
    "    ]\n",
    "}\n",
    "\n",
    "# Create the IAM policy\n",
    "aossAccessPolicy = iam.create_policy(\n",
    "    PolicyName='AOSSAccessPolicy-{0}'.format(suffix),\n",
    "    PolicyDocument=json.dumps(policy_document)\n",
    ")\n",
    "\n",
    "\n",
    "aossAccessPolicyArn = aossAccessPolicy[\"Policy\"][\"Arn\"]\n",
    "\n",
    "#wait for the policy to be created\n",
    "time.sleep(10)"
   ]
  },
  {
   "cell_type": "code",
   "execution_count": 7,
   "id": "65085d03-74bd-4293-ab89-d1f4e94d5911",
   "metadata": {},
   "outputs": [
    {
     "name": "stdout",
     "output_type": "stream",
     "text": [
      "Identity ARN:arn:aws:iam::207390309313:role/service-role/AmazonSageMaker-ExecutionRole-20220409T200590\n"
     ]
    }
   ],
   "source": [
    "# get the current identify ARN\n",
    "# if running this in sagemaker this should indicate a sagemaker execution role\n",
    "identity_arn = \"\"\n",
    "\n",
    "try:\n",
    "    # Get the execution role ARN\n",
    "    identity_arn = sagemaker.get_execution_role()\n",
    "    \n",
    "except Exception as e:\n",
    "    print(\"Not a sagemaker role, trying to retrieve the user identity\")\n",
    "    # Create an STS client\n",
    "    sts_client = boto3.client('sts')\n",
    "\n",
    "    # Get the caller identity\n",
    "    caller_identity = sts_client.get_caller_identity()\n",
    "    identity_arn = caller_identity['Arn']\n",
    "\n",
    "print(f\"Identity ARN:{identity_arn}\")"
   ]
  },
  {
   "cell_type": "code",
   "execution_count": 8,
   "id": "dd488de6-840d-4dd7-ad15-e9cc1cd4eff4",
   "metadata": {},
   "outputs": [
    {
     "name": "stdout",
     "output_type": "stream",
     "text": [
      "The identity ARN 'arn:aws:iam::207390309313:role/service-role/AmazonSageMaker-ExecutionRole-20220409T200590' is for a role.\n"
     ]
    }
   ],
   "source": [
    "# Check if the identity ARN is for a user or a role\n",
    "\n",
    "try:\n",
    "    # Try to get the user information\n",
    "    user = iam.get_user(UserName=identity_arn.split('/')[-1])\n",
    "    print(f\"The identity ARN '{identity_arn}' is for a user.\")\n",
    "\n",
    "    # Attach the policy to the user\n",
    "    iam.attach_user_policy(\n",
    "        UserName=user['User']['UserName'],\n",
    "        PolicyArn=aossAccessPolicyArn\n",
    "    )\n",
    "except iam.exceptions.NoSuchEntityException:\n",
    "    # If the identity ARN is not for a user, it must be for a role\n",
    "    print(f\"The identity ARN '{identity_arn}' is for a role.\")\n",
    "\n",
    "    # Attach the policy to the role\n",
    "    iam.attach_role_policy(\n",
    "        RoleName=identity_arn.split('/')[-1],\n",
    "        PolicyArn=aossAccessPolicyArn\n",
    "    )"
   ]
  },
  {
   "cell_type": "markdown",
   "id": "73c6dd43-140e-4e1d-9933-20ceeb0927c6",
   "metadata": {},
   "source": [
    "## Open Search Collection Creation\n",
    "Now that we have the policy created and attached to allow full access to Open Search Service (OSS), we are ready to create a OSS collection to house our embeddings and enriched metadata. There are a few additional policies we require before we can invoke to create a collection. \n",
    "\n",
    "1. Data access policy - to allow creation of collection & creating index with current user set as the principal.\n",
    "2. Security policy - to use aws owned keys for encryption\n",
    "3. Network policy - to allow access from public. NOTE: in production environments this is not recommended. You should define appropriate policy to limit access to specific resources. \n",
    "\n",
    "The following cell instantiates boto3 oss client before creating the required policies for security, network, and data access for the collection and index. \n",
    "\n"
   ]
  },
  {
   "cell_type": "code",
   "execution_count": 9,
   "id": "ee7e1202-c3d0-4bce-99d4-2b4a91e6a001",
   "metadata": {},
   "outputs": [
    {
     "name": "stdout",
     "output_type": "stream",
     "text": [
      "{'accessPolicyDetail': {'createdDate': 1732368203020,\n",
      "                        'description': 'Data access policy for semantic search '\n",
      "                                       'collection',\n",
      "                        'lastModifiedDate': 1732368203020,\n",
      "                        'name': 'media-search-833-policy-notebook',\n",
      "                        'policy': [{'Rules': [{'Resource': ['collection/media-search-833'],\n",
      "                                               'Permission': ['aoss:CreateCollectionItems',\n",
      "                                                              'aoss:DeleteCollectionItems',\n",
      "                                                              'aoss:UpdateCollectionItems',\n",
      "                                                              'aoss:DescribeCollectionItems'],\n",
      "                                               'ResourceType': 'collection'},\n",
      "                                              {'Resource': ['index/media-search-833/*'],\n",
      "                                               'Permission': ['aoss:CreateIndex',\n",
      "                                                              'aoss:DeleteIndex',\n",
      "                                                              'aoss:UpdateIndex',\n",
      "                                                              'aoss:DescribeIndex',\n",
      "                                                              'aoss:ReadDocument',\n",
      "                                                              'aoss:WriteDocument'],\n",
      "                                               'ResourceType': 'index'}],\n",
      "                                    'Principal': ['arn:aws:iam::207390309313:role/service-role/AmazonSageMaker-ExecutionRole-20220409T200590'],\n",
      "                                    'Description': 'data-access-rule'}],\n",
      "                        'policyVersion': 'MTczMjM2ODIwMzAyMF8x',\n",
      "                        'type': 'data'},\n",
      " 'ResponseMetadata': {'RequestId': '16d6a61e-a9d0-40c2-8c2b-97147e54c35d',\n",
      "                      'HTTPStatusCode': 200,\n",
      "                      'HTTPHeaders': {'x-amzn-requestid': '16d6a61e-a9d0-40c2-8c2b-97147e54c35d',\n",
      "                                      'date': 'Sat, 23 Nov 2024 13:23:23 GMT',\n",
      "                                      'content-type': 'application/x-amz-json-1.0',\n",
      "                                      'content-length': '813',\n",
      "                                      'connection': 'keep-alive'},\n",
      "                      'RetryAttempts': 0}}\n"
     ]
    }
   ],
   "source": [
    "# data access policy for OSS\n",
    "\n",
    "collection_name = 'media-search-{0}'.format(suffix)\n",
    "# Create an OpenSearch Serverless client\n",
    "oss_client = boto3.client('opensearchserverless')\n",
    "\n",
    "# define the data acccess policy \n",
    "data_access_policy = json.dumps([\n",
    "      {\n",
    "        \"Rules\": [\n",
    "          {\n",
    "            \"Resource\": [\n",
    "              f\"collection/{collection_name}\"\n",
    "            ],\n",
    "            \"Permission\": [\n",
    "              \"aoss:CreateCollectionItems\",\n",
    "              \"aoss:DeleteCollectionItems\",\n",
    "              \"aoss:UpdateCollectionItems\",\n",
    "              \"aoss:DescribeCollectionItems\"\n",
    "            ],\n",
    "            \"ResourceType\": \"collection\"\n",
    "          },\n",
    "          {\n",
    "            \"Resource\": [\n",
    "              f\"index/{collection_name}/*\"\n",
    "            ],\n",
    "            \"Permission\": [\n",
    "              \"aoss:CreateIndex\",\n",
    "              \"aoss:DeleteIndex\",\n",
    "              \"aoss:UpdateIndex\",\n",
    "              \"aoss:DescribeIndex\",\n",
    "              \"aoss:ReadDocument\",\n",
    "              \"aoss:WriteDocument\"\n",
    "            ],\n",
    "            \"ResourceType\": \"index\"\n",
    "          }\n",
    "        ],\n",
    "        \"Principal\": [\n",
    "          identity_arn\n",
    "        ],\n",
    "        \"Description\": \"data-access-rule\"\n",
    "      }\n",
    "    ], indent=2)\n",
    "\n",
    "data_access_policy_name_nb = f\"{collection_name}-policy-notebook\"\n",
    "\n",
    "# Create the data access policy\n",
    "response = oss_client.create_access_policy(\n",
    "    description='Data access policy for semantic search collection',\n",
    "    name=data_access_policy_name_nb,\n",
    "    policy=str(data_access_policy),\n",
    "    type='data'\n",
    ")\n",
    "\n",
    "pprint.pp(response)"
   ]
  },
  {
   "cell_type": "code",
   "execution_count": 10,
   "id": "2b755eb8-55ba-43e7-8f30-2271ac8f969a",
   "metadata": {},
   "outputs": [
    {
     "name": "stdout",
     "output_type": "stream",
     "text": [
      "{'securityPolicyDetail': {'createdDate': 1732368206594,\n",
      "                          'lastModifiedDate': 1732368206594,\n",
      "                          'name': 'media-search-833-sp-notebook',\n",
      "                          'policy': {'Rules': [{'Resource': ['collection/media-search-833'],\n",
      "                                                'ResourceType': 'collection'}],\n",
      "                                     'AWSOwnedKey': True},\n",
      "                          'policyVersion': 'MTczMjM2ODIwNjU5NF8x',\n",
      "                          'type': 'encryption'},\n",
      " 'ResponseMetadata': {'RequestId': 'bf644c45-a2ec-4e4f-b361-b2fdb2334369',\n",
      "                      'HTTPStatusCode': 200,\n",
      "                      'HTTPHeaders': {'x-amzn-requestid': 'bf644c45-a2ec-4e4f-b361-b2fdb2334369',\n",
      "                                      'date': 'Sat, 23 Nov 2024 13:23:26 GMT',\n",
      "                                      'content-type': 'application/x-amz-json-1.0',\n",
      "                                      'content-length': '297',\n",
      "                                      'connection': 'keep-alive'},\n",
      "                      'RetryAttempts': 0}}\n"
     ]
    }
   ],
   "source": [
    "# create the security policy \n",
    "encryption_policy_name = f\"{collection_name}-sp-notebook\"\n",
    "\n",
    "encryption_policy = oss_client.create_security_policy(\n",
    "    name=encryption_policy_name,\n",
    "    policy=json.dumps(\n",
    "        {\n",
    "            'Rules': [{'Resource': ['collection/' + collection_name],\n",
    "                       'ResourceType': 'collection'}],\n",
    "            'AWSOwnedKey': True\n",
    "        }),\n",
    "        type='encryption'\n",
    "    )\n",
    "pprint.pp(encryption_policy)"
   ]
  },
  {
   "cell_type": "code",
   "execution_count": 11,
   "id": "ebdf2fc6-1b47-410f-8bb1-523eb544f479",
   "metadata": {},
   "outputs": [
    {
     "name": "stdout",
     "output_type": "stream",
     "text": [
      "{'securityPolicyDetail': {'createdDate': 1732368209301,\n",
      "                          'lastModifiedDate': 1732368209301,\n",
      "                          'name': 'media-search-833-np-notebook',\n",
      "                          'policy': [{'Rules': [{'Resource': ['collection/media-search-833'],\n",
      "                                                 'ResourceType': 'collection'}],\n",
      "                                      'AllowFromPublic': True}],\n",
      "                          'policyVersion': 'MTczMjM2ODIwOTMwMV8x',\n",
      "                          'type': 'network'},\n",
      " 'ResponseMetadata': {'RequestId': '8131728e-a347-454c-9512-ee02a508f454',\n",
      "                      'HTTPStatusCode': 200,\n",
      "                      'HTTPHeaders': {'x-amzn-requestid': '8131728e-a347-454c-9512-ee02a508f454',\n",
      "                                      'date': 'Sat, 23 Nov 2024 13:23:29 GMT',\n",
      "                                      'content-type': 'application/x-amz-json-1.0',\n",
      "                                      'content-length': '300',\n",
      "                                      'connection': 'keep-alive'},\n",
      "                      'RetryAttempts': 0}}\n"
     ]
    }
   ],
   "source": [
    "# create the network policy \n",
    "network_policy_name = f\"{collection_name}-np-notebook\"\n",
    "network_policy = oss_client.create_security_policy(\n",
    "    name=network_policy_name,\n",
    "    policy=json.dumps(\n",
    "        [\n",
    "            {'Rules': [{'Resource': ['collection/' + collection_name],\n",
    "                        'ResourceType': 'collection'}],\n",
    "             'AllowFromPublic': True}\n",
    "        ]),\n",
    "        type='network'\n",
    "    )\n",
    "\n",
    "pprint.pp(network_policy)"
   ]
  },
  {
   "cell_type": "markdown",
   "id": "3ec7e5dc-96b3-46e2-a5e6-89f209377847",
   "metadata": {},
   "source": [
    "We are now ready to create the OSS collection and index. The following cells creates a collection, index as well as the index schema required to house our metadata including a vector field to store our embeddings. An search_client (of type opensearch) is created in order to create the index and issue various calls to OSS. "
   ]
  },
  {
   "cell_type": "code",
   "execution_count": null,
   "id": "8d147ebc-2968-4624-8b59-d45cb2c2c447",
   "metadata": {},
   "outputs": [],
   "source": [
    "# create the collection of type vector search\n",
    "oss_client = boto3.client('opensearchserverless')\n",
    "collection = oss_client.create_collection(name=collection_name, type='VECTORSEARCH')\n",
    "collection_id = collection['createCollectionDetail']['id']\n",
    "host = collection_id + '.' + region_name + '.aoss.amazonaws.com'\n",
    "print(\"OSS host: {0}\".format(host))\n",
    "\n",
    "# create the OSS client\n",
    "service = 'aoss'\n",
    "credentials = boto3.Session().get_credentials()\n",
    "awsauth = AWSV4SignerAuth(credentials, region_name, service)\n",
    "\n",
    "# Build the OpenSearch client\n",
    "search_client = OpenSearch(\n",
    "    hosts=[{'host': host, 'port': 443}],\n",
    "    http_auth=awsauth,\n",
    "    use_ssl=True,\n",
    "    verify_certs=True,\n",
    "    connection_class=RequestsHttpConnection,\n",
    "    timeout=300\n",
    ")\n",
    "# # It can take up to a minute for data access rules to be enforced\n",
    "time.sleep(60)"
   ]
  },
  {
   "cell_type": "markdown",
   "id": "44be9634-ded3-4909-bf24-e24212fc1daf",
   "metadata": {},
   "source": [
    "### Defining the Opensearchserverless index\n",
    "The following cell defines a OSS index schema for our dataset as well as creating the index via the OSS client. The schema defines what fields and their data type mappings. For our use case it is a fairly flat structure but a nested and json structure can also be defined as needed to store more complex relationships. \n",
    "\n",
    "The standard k-NN search (nearest neighbor) uses cruite force approach to find similaritiy but this is extremely inefficient and resource intensive for large datasets or high dimensional emebeddings. For this purposes OpenSearch leverages Approximate Nearest Neighbor (ANN) algorithm from either nmslib, faiss or Lucene libraries to power k-NN search. Further details on this is provided in the next notebook but for the purposes of this lab we are going to utilise the FAISS engine which also supports k-NN filtering used later to drive more intelligent search. \n",
    "\n",
    "In this instance, we are only required to store path, title, description, keywords, tags as well as the vector embeddings created in the enrichment notebook. Please note, the dimensions of the vector embeddings must match here. \n",
    "\n"
   ]
  },
  {
   "cell_type": "code",
   "execution_count": 20,
   "id": "fd4bf5c6-aad0-468e-aa9c-c814cc5b3066",
   "metadata": {},
   "outputs": [
    {
     "name": "stdout",
     "output_type": "stream",
     "text": [
      "response received for the create index -> {'acknowledged': True, 'shards_acknowledged': True, 'index': 'smart-search-index-faiss'}\n"
     ]
    }
   ],
   "source": [
    "#index configuration. note that we're adding both text metadata as well as the vector mapping property that will be storing our embedding for each media asset.\n",
    "# For additional information on the K-NN index configuration, please read the below documentation.\n",
    "#https://opensearch.org/docs/latest/field-types/supported-field-types/knn-vector/\n",
    "#https://opensearch.org/docs/latest/search-plugins/knn/knn-index/\n",
    "\n",
    "index_name = 'smart-search-index-faiss'\n",
    "index_body = {\n",
    "   \"settings\": {\n",
    "      \"index.knn\": \"true\"\n",
    "   },\n",
    "   \"mappings\": {\n",
    "      \"properties\": {\n",
    "          \"image_vector\": {\n",
    "              \"type\": \"knn_vector\",\n",
    "              \"dimension\": 1024, # Embedding size for Amanon Titan Multimodal Embedding G1 model, it is 1,024 (default), 384, 256\n",
    "              \"method\": {\n",
    "                  \"engine\": \"faiss\",\n",
    "                  \"name\": \"hnsw\"\n",
    "                }\n",
    "          },\n",
    "          \"image_id\" : {\"type\": \"text\"},\n",
    "          \"path\": {\"type\": \"text\"},\n",
    "          \"title\": {\"type\": \"text\"},\n",
    "          \"description\": {\"type\": \"text\"},\n",
    "          \"keywords\": {\"type\": \"text\"},\n",
    "          \"tags\": {\"type\": \"text\"}\n",
    "      }\n",
    "   }\n",
    "}\n",
    "\n",
    "# We would get an index already exists exception if the index already exists, and that is fine.\n",
    "try:\n",
    "    response = search_client.indices.create(index_name, body=index_body)\n",
    "    print(f\"response received for the create index -> {response}\")\n",
    "except Exception as e:\n",
    "    print(f\"error in creating index={index_name}, exception={e}\")"
   ]
  },
  {
   "cell_type": "code",
   "execution_count": 21,
   "id": "b4ade0bb-b01e-439a-8db8-520f57d73759",
   "metadata": {},
   "outputs": [
    {
     "name": "stdout",
     "output_type": "stream",
     "text": [
      "{'smart-search-index-faiss': {'mappings': {'properties': {'description': {'type': 'text'},\n",
      "                                                          'image_id': {'type': 'text'},\n",
      "                                                          'image_vector': {'type': 'knn_vector',\n",
      "                                                                           'dimension': 1024,\n",
      "                                                                           'method': {'engine': 'faiss',\n",
      "                                                                                      'space_type': 'l2',\n",
      "                                                                                      'name': 'hnsw',\n",
      "                                                                                      'parameters': {}}},\n",
      "                                                          'keywords': {'type': 'text'},\n",
      "                                                          'path': {'type': 'text'},\n",
      "                                                          'tags': {'type': 'text'},\n",
      "                                                          'title': {'type': 'text'}}}}}\n",
      "{'smart-search-index-faiss': {'settings': {'index': {'knn': 'true',\n",
      "                                                     'number_of_shards': '2',\n",
      "                                                     'number_of_replicas': '0',\n",
      "                                                     'uuid': 'sg9xW5MBz-UDDsaPoYV_',\n",
      "                                                     'version': {'created': '136327827'},\n",
      "                                                     'provided_name': 'smart-search-index-faiss'}}}}\n",
      "{'smart-search-index-faiss': {'aliases': {}}}\n"
     ]
    }
   ],
   "source": [
    "#display information on the index you just created\n",
    "\n",
    "# Get index mapping\n",
    "response = search_client.indices.get_mapping(index=index_name)\n",
    "pprint.pp(response)\n",
    "\n",
    "# Get index settings\n",
    "response = search_client.indices.get_settings(index=index_name)\n",
    "pprint.pp(response)\n",
    "\n",
    "# Get index aliases\n",
    "response = search_client.indices.get_alias(index=index_name) \n",
    "pprint.pp(response)"
   ]
  },
  {
   "cell_type": "code",
   "execution_count": 22,
   "id": "ea5a6f5c-606e-48fa-86d3-d8a0cb3f0cd8",
   "metadata": {},
   "outputs": [],
   "source": [
    "# deleting indices\n",
    "# search_client.indices.delete(index=index_name)"
   ]
  },
  {
   "cell_type": "markdown",
   "id": "f5041143-50e1-4a38-9715-5941597785e5",
   "metadata": {},
   "source": [
    "## Loading the data in the index \n",
    "\n",
    "The index is created and ready for use. The following cells will attempt to reload data from the previous notebook and populate the index before we can issue any queries. \n",
    "If there any issues with the variable, uncomment the line to reload the dataset from CSV file saved in notebook 2. "
   ]
  },
  {
   "cell_type": "code",
   "execution_count": 23,
   "id": "ef5ce7e0-60f8-49b6-bb07-14abda24e34c",
   "metadata": {},
   "outputs": [
    {
     "data": {
      "text/html": [
       "<div>\n",
       "<style scoped>\n",
       "    .dataframe tbody tr th:only-of-type {\n",
       "        vertical-align: middle;\n",
       "    }\n",
       "\n",
       "    .dataframe tbody tr th {\n",
       "        vertical-align: top;\n",
       "    }\n",
       "\n",
       "    .dataframe thead th {\n",
       "        text-align: right;\n",
       "    }\n",
       "</style>\n",
       "<table border=\"1\" class=\"dataframe\">\n",
       "  <thead>\n",
       "    <tr style=\"text-align: right;\">\n",
       "      <th></th>\n",
       "      <th>image_id</th>\n",
       "      <th>path</th>\n",
       "      <th>title</th>\n",
       "      <th>description</th>\n",
       "      <th>keywords</th>\n",
       "      <th>tags</th>\n",
       "      <th>embeddings</th>\n",
       "    </tr>\n",
       "  </thead>\n",
       "  <tbody>\n",
       "    <tr>\n",
       "      <th>0</th>\n",
       "      <td>00a7655d4eabf186.jpg</td>\n",
       "      <td>./data/resized-images/00a7655d4eabf186.jpg</td>\n",
       "      <td>Baseball player batting during a game</td>\n",
       "      <td>The image depicts a baseball player in a batti...</td>\n",
       "      <td>baseball, sports, batting, player, jersey, sta...</td>\n",
       "      <td>baseball, sports, athlete, action, competition</td>\n",
       "      <td>[0.041014045, 0.021385895, -0.02275303, 0.0187...</td>\n",
       "    </tr>\n",
       "    <tr>\n",
       "      <th>1</th>\n",
       "      <td>19aa926f2f7d9782.jpg</td>\n",
       "      <td>./data/resized-images/19aa926f2f7d9782.jpg</td>\n",
       "      <td>Baseball Player Batting During a Game</td>\n",
       "      <td>The image depicts a professional baseball play...</td>\n",
       "      <td>baseball, sports, athlete, batting, swing, sta...</td>\n",
       "      <td>baseball, sports, athlete, batting, stadium, g...</td>\n",
       "      <td>[0.03466529, 0.02793032, -0.029118843, -0.0156...</td>\n",
       "    </tr>\n",
       "    <tr>\n",
       "      <th>2</th>\n",
       "      <td>39209fa476d1430c.jpg</td>\n",
       "      <td>./data/resized-images/39209fa476d1430c.jpg</td>\n",
       "      <td>Baseball Players Gathered on Field</td>\n",
       "      <td>The image depicts a group of baseball players ...</td>\n",
       "      <td>baseball, players, team, field, uniforms, bats...</td>\n",
       "      <td>sports, baseball, athletes, coaching, team gat...</td>\n",
       "      <td>[0.031110628, 0.030195609, -0.060391217, -0.01...</td>\n",
       "    </tr>\n",
       "    <tr>\n",
       "      <th>3</th>\n",
       "      <td>1efc2db85591a04f.jpg</td>\n",
       "      <td>./data/resized-images/1efc2db85591a04f.jpg</td>\n",
       "      <td>Baseball batter at home plate</td>\n",
       "      <td>The image depicts a baseball game in progress....</td>\n",
       "      <td>baseball, batter, swing, pitch, catcher, field...</td>\n",
       "      <td>baseball, sports, game, athlete, competition</td>\n",
       "      <td>[0.047018528, 0.025594763, -0.030524123, 0.023...</td>\n",
       "    </tr>\n",
       "    <tr>\n",
       "      <th>4</th>\n",
       "      <td>3c06d149c8027e71.jpg</td>\n",
       "      <td>./data/resized-images/3c06d149c8027e71.jpg</td>\n",
       "      <td>Youth Baseball Player Batting</td>\n",
       "      <td>The image depicts a young baseball player in a...</td>\n",
       "      <td>baseball, youth sports, batting, swing, athlet...</td>\n",
       "      <td>sports, baseball, youth, athlete, batting</td>\n",
       "      <td>[0.011220759, 0.06612398, -0.048392408, -0.019...</td>\n",
       "    </tr>\n",
       "  </tbody>\n",
       "</table>\n",
       "</div>"
      ],
      "text/plain": [
       "               image_id                                        path  \\\n",
       "0  00a7655d4eabf186.jpg  ./data/resized-images/00a7655d4eabf186.jpg   \n",
       "1  19aa926f2f7d9782.jpg  ./data/resized-images/19aa926f2f7d9782.jpg   \n",
       "2  39209fa476d1430c.jpg  ./data/resized-images/39209fa476d1430c.jpg   \n",
       "3  1efc2db85591a04f.jpg  ./data/resized-images/1efc2db85591a04f.jpg   \n",
       "4  3c06d149c8027e71.jpg  ./data/resized-images/3c06d149c8027e71.jpg   \n",
       "\n",
       "                                   title  \\\n",
       "0  Baseball player batting during a game   \n",
       "1  Baseball Player Batting During a Game   \n",
       "2     Baseball Players Gathered on Field   \n",
       "3          Baseball batter at home plate   \n",
       "4          Youth Baseball Player Batting   \n",
       "\n",
       "                                         description  \\\n",
       "0  The image depicts a baseball player in a batti...   \n",
       "1  The image depicts a professional baseball play...   \n",
       "2  The image depicts a group of baseball players ...   \n",
       "3  The image depicts a baseball game in progress....   \n",
       "4  The image depicts a young baseball player in a...   \n",
       "\n",
       "                                            keywords  \\\n",
       "0  baseball, sports, batting, player, jersey, sta...   \n",
       "1  baseball, sports, athlete, batting, swing, sta...   \n",
       "2  baseball, players, team, field, uniforms, bats...   \n",
       "3  baseball, batter, swing, pitch, catcher, field...   \n",
       "4  baseball, youth sports, batting, swing, athlet...   \n",
       "\n",
       "                                                tags  \\\n",
       "0     baseball, sports, athlete, action, competition   \n",
       "1  baseball, sports, athlete, batting, stadium, g...   \n",
       "2  sports, baseball, athletes, coaching, team gat...   \n",
       "3       baseball, sports, game, athlete, competition   \n",
       "4          sports, baseball, youth, athlete, batting   \n",
       "\n",
       "                                          embeddings  \n",
       "0  [0.041014045, 0.021385895, -0.02275303, 0.0187...  \n",
       "1  [0.03466529, 0.02793032, -0.029118843, -0.0156...  \n",
       "2  [0.031110628, 0.030195609, -0.060391217, -0.01...  \n",
       "3  [0.047018528, 0.025594763, -0.030524123, 0.023...  \n",
       "4  [0.011220759, 0.06612398, -0.048392408, -0.019...  "
      ]
     },
     "execution_count": 23,
     "metadata": {},
     "output_type": "execute_result"
    }
   ],
   "source": [
    "# load the dataset from notebook 2 \n",
    "%store -r df_metadata\n",
    "# df_metadata = pd.read_csv('./data/enriched_dataset.csv')\n",
    "df_metadata.head()"
   ]
  },
  {
   "cell_type": "markdown",
   "id": "91ce5e47-59ee-40d6-8784-41418991f5ac",
   "metadata": {},
   "source": [
    "Load the entire contents of the dataframe into opensearch index. The following cell does this simply by iterating over the dataframe and processing each row and insert into the index. "
   ]
  },
  {
   "cell_type": "code",
   "execution_count": 24,
   "id": "8ffb5691-ed39-4dc5-aa50-d6868a961d4e",
   "metadata": {},
   "outputs": [
    {
     "data": {
      "application/vnd.jupyter.widget-view+json": {
       "model_id": "c95e9acfd7fe4a4c9a54b8f49adcb579",
       "version_major": 2,
       "version_minor": 0
      },
      "text/plain": [
       "  0%|          | 0/107 [00:00<?, ?it/s]"
      ]
     },
     "metadata": {},
     "output_type": "display_data"
    },
    {
     "name": "stdout",
     "output_type": "stream",
     "text": [
      "CPU times: user 630 ms, sys: 35.5 ms, total: 665 ms\n",
      "Wall time: 27.1 s\n"
     ]
    }
   ],
   "source": [
    "%%time\n",
    "from tqdm import tqdm\n",
    "import tqdm.notebook as tq\n",
    "\n",
    "for idx, record in tq.tqdm(df_metadata.iterrows(), total=len(df_metadata)):\n",
    "    document = {\n",
    "        'image_vector': df_metadata['embeddings'][idx],\n",
    "        \"description\":   df_metadata['description'][idx],\n",
    "        \"image_id\" : df_metadata['image_id'][idx],\n",
    "        \"image_url\": df_metadata['path'][idx],\n",
    "        \"title\": df_metadata['title'][idx],\n",
    "        \"keywords\": df_metadata['keywords'][idx],\n",
    "        \"tags\": df_metadata['tags'][idx],\n",
    "    }\n",
    "    response = search_client.index(\n",
    "        index = index_name,\n",
    "        body = document\n",
    "    )"
   ]
  },
  {
   "cell_type": "markdown",
   "id": "a235cc0e-e7f4-4da0-8d3b-8e4ae01e23e8",
   "metadata": {},
   "source": [
    "The following cell saves the collection, host and index name of the created OpenSearch serverless instance to be used in Notebook 4. "
   ]
  },
  {
   "cell_type": "code",
   "execution_count": 26,
   "id": "ffd63f4f-ca94-4839-9fa5-a8e7f4e401e6",
   "metadata": {},
   "outputs": [
    {
     "name": "stdout",
     "output_type": "stream",
     "text": [
      "Stored 'index_name' (str)\n",
      "Stored 'data_access_policy_name_nb' (str)\n",
      "Stored 'network_policy_name' (str)\n",
      "Stored 'encryption_policy_name' (str)\n",
      "Stored 'aossAccessPolicyArn' (str)\n",
      "Stored 'collection_name' (str)\n",
      "Stored 'collection_id' (str)\n",
      "Stored 'host' (str)\n"
     ]
    }
   ],
   "source": [
    "# save variables for use in search notebook\n",
    "%store index_name\n",
    "%store data_access_policy_name_nb\n",
    "%store network_policy_name\n",
    "%store encryption_policy_name\n",
    "%store aossAccessPolicyArn\n",
    "%store collection_name\n",
    "%store collection_id\n",
    "%store host\n",
    "%store identity_arn"
   ]
  },
  {
   "cell_type": "code",
   "execution_count": null,
   "id": "d7f8a504-6119-4033-a44c-109adc23ea46",
   "metadata": {},
   "outputs": [],
   "source": []
  }
 ],
 "metadata": {
  "kernelspec": {
   "display_name": "Python 3 (ipykernel)",
   "language": "python",
   "name": "python3"
  },
  "language_info": {
   "codemirror_mode": {
    "name": "ipython",
    "version": 3
   },
   "file_extension": ".py",
   "mimetype": "text/x-python",
   "name": "python",
   "nbconvert_exporter": "python",
   "pygments_lexer": "ipython3",
   "version": "3.10.14"
  }
 },
 "nbformat": 4,
 "nbformat_minor": 5
}
