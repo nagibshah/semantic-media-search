{
 "cells": [
  {
   "cell_type": "markdown",
   "id": "8da99093-37cc-482c-874d-c9abe572e068",
   "metadata": {},
   "source": [
    "# Open Search Serverless Collection creation\n",
    "This notebook demonstrates how to create an OpenSearch Serverless Collection using the AWS Python SDK (Boto3). OpenSearch Serverless is a fully managed service that makes it easy to launch and run OpenSearch clusters in the cloud. It simplifies the deployment and management of OpenSearch by automatically provisioning, configuring, and scaling the resources required to run OpenSearch"
   ]
  },
  {
   "cell_type": "markdown",
   "id": "6d21ee41-870b-43bf-ba4d-9d23bf50605e",
   "metadata": {},
   "source": [
    "## Install required libraries\n",
    "The following cell installs required python libraries specified in the 'requirements.txt' file."
   ]
  },
  {
   "cell_type": "code",
   "execution_count": null,
   "id": "e275746b-7d5c-41f8-a78b-5dde5d8f85bb",
   "metadata": {},
   "outputs": [],
   "source": [
    "#This cell installs the required libraries specified in the 'requirements.txt' file\n",
    "#!pip install -r requirements.txt --quiet"
   ]
  },
  {
   "cell_type": "code",
   "execution_count": 1,
   "id": "76085b56-c600-4582-bf3b-8881df6563e1",
   "metadata": {},
   "outputs": [
    {
     "name": "stdout",
     "output_type": "stream",
     "text": [
      "sagemaker.config INFO - Not applying SDK defaults from location: /etc/xdg/sagemaker/config.yaml\n",
      "sagemaker.config INFO - Not applying SDK defaults from location: /home/sagemaker-user/.config/sagemaker/config.yaml\n"
     ]
    }
   ],
   "source": [
    "import os\n",
    "import pandas as pd\n",
    "import sagemaker\n",
    "import boto3\n",
    "import json\n",
    "import pprint\n",
    "import random \n",
    "from opensearchpy import OpenSearch, RequestsHttpConnection, AWSV4SignerAuth, helpers\n",
    "import time\n",
    "\n",
    "session = boto3.session.Session()\n",
    "region_name = session.region_name"
   ]
  },
  {
   "cell_type": "markdown",
   "id": "dd24b531-a9d2-4884-8ad5-3285ffbddf88",
   "metadata": {},
   "source": [
    "## Required permissions\n",
    "Your role or user will need a certain number of policies attached to execute the below code including AmazonBedrockFullAccess, AmazonOpenSearchServiceFullAccess, and the following policy for OpenSearchServerless. This policy grants full access to the OpenSearch Serverless service, allowing you to create, manage, and delete OpenSearch Serverless resources.\n",
    "\n",
    "```json\n",
    "{\n",
    "    \"Version\": \"2012-10-17\",\n",
    "    \"Statement\": [\n",
    "        {\n",
    "            \"Effect\": \"Allow\",\n",
    "            \"Action\": \"aoss:*\",\n",
    "            \"Resource\": \"*\"\n",
    "        }\n",
    "    ]\n",
    "}\n",
    "```\n",
    "\n",
    "The following cells creates this policy and assigns the policy to the current user or role. If running in sagemaker notebook the code will attempt to assign the policy to the sagemaker execution role. "
   ]
  },
  {
   "cell_type": "code",
   "execution_count": 2,
   "id": "8b253c01-f3d6-4c2b-9ce9-2eb74b4d6fce",
   "metadata": {},
   "outputs": [],
   "source": [
    "# Create an IAM client\n",
    "iam = boto3.client('iam')\n",
    "\n",
    "suffix = random.randrange(200, 900)\n",
    "\n",
    "# Define the policy document\n",
    "policy_document = {\n",
    "    \"Version\": \"2012-10-17\",\n",
    "    \"Statement\": [\n",
    "        {\n",
    "            \"Effect\": \"Allow\",\n",
    "            \"Action\": \"aoss:*\",\n",
    "            \"Resource\": \"*\"\n",
    "        }\n",
    "    ]\n",
    "}\n",
    "\n",
    "# Create the IAM policy\n",
    "aossAccessPolicy = iam.create_policy(\n",
    "    PolicyName='AOSSAccessPolicy-{0}'.format(suffix),\n",
    "    PolicyDocument=json.dumps(policy_document)\n",
    ")\n",
    "\n",
    "\n",
    "aossAccessPolicyArn = aossAccessPolicy[\"Policy\"][\"Arn\"]\n",
    "\n",
    "#wait for the policy to be created\n",
    "time.sleep(10)"
   ]
  },
  {
   "cell_type": "code",
   "execution_count": 3,
   "id": "65085d03-74bd-4293-ab89-d1f4e94d5911",
   "metadata": {},
   "outputs": [
    {
     "name": "stdout",
     "output_type": "stream",
     "text": [
      "Identity ARN:arn:aws:iam::207390309313:role/service-role/AmazonSageMaker-ExecutionRole-20220409T200590\n"
     ]
    }
   ],
   "source": [
    "# get the current identify ARN\n",
    "# if running this in sagemaker this should indicate a sagemaker execution role\n",
    "identity_arn = \"\"\n",
    "\n",
    "try:\n",
    "    # Get the execution role ARN\n",
    "    identity_arn = sagemaker.get_execution_role()\n",
    "    \n",
    "except Exception as e:\n",
    "    print(\"Not a sagemaker role, trying to retrieve the user identity\")\n",
    "    # Create an STS client\n",
    "    sts_client = boto3.client('sts')\n",
    "\n",
    "    # Get the caller identity\n",
    "    caller_identity = sts_client.get_caller_identity()\n",
    "    identity_arn = caller_identity['Arn']\n",
    "\n",
    "print(f\"Identity ARN:{identity_arn}\")"
   ]
  },
  {
   "cell_type": "code",
   "execution_count": 4,
   "id": "dd488de6-840d-4dd7-ad15-e9cc1cd4eff4",
   "metadata": {},
   "outputs": [
    {
     "name": "stdout",
     "output_type": "stream",
     "text": [
      "The identity ARN 'arn:aws:iam::207390309313:role/service-role/AmazonSageMaker-ExecutionRole-20220409T200590' is for a role.\n"
     ]
    }
   ],
   "source": [
    "# Check if the identity ARN is for a user or a role\n",
    "\n",
    "try:\n",
    "    # Try to get the user information\n",
    "    user = iam.get_user(UserName=identity_arn.split('/')[-1])\n",
    "    print(f\"The identity ARN '{identity_arn}' is for a user.\")\n",
    "\n",
    "    # Attach the policy to the user\n",
    "    iam.attach_user_policy(\n",
    "        UserName=user['User']['UserName'],\n",
    "        PolicyArn=aossAccessPolicyArn\n",
    "    )\n",
    "except iam.exceptions.NoSuchEntityException:\n",
    "    # If the identity ARN is not for a user, it must be for a role\n",
    "    print(f\"The identity ARN '{identity_arn}' is for a role.\")\n",
    "\n",
    "    # Attach the policy to the role\n",
    "    iam.attach_role_policy(\n",
    "        RoleName=identity_arn.split('/')[-1],\n",
    "        PolicyArn=aossAccessPolicyArn\n",
    "    )"
   ]
  },
  {
   "cell_type": "markdown",
   "id": "73c6dd43-140e-4e1d-9933-20ceeb0927c6",
   "metadata": {},
   "source": [
    "## Open Search Collection Creation\n",
    "Now that we have the policy created and attached to allow full access to Open Search Service (OSS), we are ready to create a OSS collection to house our embeddings and enriched metadata. There are a few additional policies we require before we can invoke to create a collection. \n",
    "\n",
    "1. Data access policy - to allow creation of collection & creating index with current user set as the principal.\n",
    "2. Security policy - to use aws owned keys for encryption\n",
    "3. Network policy - to allow access from public. NOTE: in production environments this is not recommended. You should define appropriate policy to limit access to specific resources. \n",
    "\n",
    "The following cell instantiates boto3 oss client before creating the required policies for security, network, and data access for the collection and index. \n",
    "\n"
   ]
  },
  {
   "cell_type": "code",
   "execution_count": 6,
   "id": "ee7e1202-c3d0-4bce-99d4-2b4a91e6a001",
   "metadata": {},
   "outputs": [
    {
     "name": "stdout",
     "output_type": "stream",
     "text": [
      "{'accessPolicyDetail': {'createdDate': 1724211614949,\n",
      "                        'description': 'Data access policy for semantic search '\n",
      "                                       'collection',\n",
      "                        'lastModifiedDate': 1724211614949,\n",
      "                        'name': 'media-search-229-policy-notebook',\n",
      "                        'policy': [{'Rules': [{'Resource': ['collection/media-search-229'],\n",
      "                                               'Permission': ['aoss:CreateCollectionItems',\n",
      "                                                              'aoss:DeleteCollectionItems',\n",
      "                                                              'aoss:UpdateCollectionItems',\n",
      "                                                              'aoss:DescribeCollectionItems'],\n",
      "                                               'ResourceType': 'collection'},\n",
      "                                              {'Resource': ['index/media-search-229/*'],\n",
      "                                               'Permission': ['aoss:CreateIndex',\n",
      "                                                              'aoss:DeleteIndex',\n",
      "                                                              'aoss:UpdateIndex',\n",
      "                                                              'aoss:DescribeIndex',\n",
      "                                                              'aoss:ReadDocument',\n",
      "                                                              'aoss:WriteDocument'],\n",
      "                                               'ResourceType': 'index'}],\n",
      "                                    'Principal': ['arn:aws:iam::207390309313:role/service-role/AmazonSageMaker-ExecutionRole-20220409T200590'],\n",
      "                                    'Description': 'data-access-rule'}],\n",
      "                        'policyVersion': 'MTcyNDIxMTYxNDk0OV8x',\n",
      "                        'type': 'data'},\n",
      " 'ResponseMetadata': {'RequestId': 'd0d3a685-338d-4019-a6a1-897af4099d0d',\n",
      "                      'HTTPStatusCode': 200,\n",
      "                      'HTTPHeaders': {'x-amzn-requestid': 'd0d3a685-338d-4019-a6a1-897af4099d0d',\n",
      "                                      'date': 'Wed, 21 Aug 2024 03:40:14 GMT',\n",
      "                                      'content-type': 'application/x-amz-json-1.0',\n",
      "                                      'content-length': '813',\n",
      "                                      'connection': 'keep-alive'},\n",
      "                      'RetryAttempts': 0}}\n"
     ]
    }
   ],
   "source": [
    "# data access policy for OSS\n",
    "\n",
    "collection_name = 'media-search-{0}'.format(suffix)\n",
    "# Create an OpenSearch Serverless client\n",
    "oss_client = boto3.client('opensearchserverless')\n",
    "\n",
    "# define the data acccess policy \n",
    "data_access_policy = json.dumps([\n",
    "      {\n",
    "        \"Rules\": [\n",
    "          {\n",
    "            \"Resource\": [\n",
    "              f\"collection/{collection_name}\"\n",
    "            ],\n",
    "            \"Permission\": [\n",
    "              \"aoss:CreateCollectionItems\",\n",
    "              \"aoss:DeleteCollectionItems\",\n",
    "              \"aoss:UpdateCollectionItems\",\n",
    "              \"aoss:DescribeCollectionItems\"\n",
    "            ],\n",
    "            \"ResourceType\": \"collection\"\n",
    "          },\n",
    "          {\n",
    "            \"Resource\": [\n",
    "              f\"index/{collection_name}/*\"\n",
    "            ],\n",
    "            \"Permission\": [\n",
    "              \"aoss:CreateIndex\",\n",
    "              \"aoss:DeleteIndex\",\n",
    "              \"aoss:UpdateIndex\",\n",
    "              \"aoss:DescribeIndex\",\n",
    "              \"aoss:ReadDocument\",\n",
    "              \"aoss:WriteDocument\"\n",
    "            ],\n",
    "            \"ResourceType\": \"index\"\n",
    "          }\n",
    "        ],\n",
    "        \"Principal\": [\n",
    "          identity_arn\n",
    "        ],\n",
    "        \"Description\": \"data-access-rule\"\n",
    "      }\n",
    "    ], indent=2)\n",
    "\n",
    "data_access_policy_name_nb = f\"{collection_name}-policy-notebook\"\n",
    "\n",
    "# Create the data access policy\n",
    "response = oss_client.create_access_policy(\n",
    "    description='Data access policy for semantic search collection',\n",
    "    name=data_access_policy_name_nb,\n",
    "    policy=str(data_access_policy),\n",
    "    type='data'\n",
    ")\n",
    "\n",
    "pprint.pp(response)"
   ]
  },
  {
   "cell_type": "code",
   "execution_count": 7,
   "id": "2b755eb8-55ba-43e7-8f30-2271ac8f969a",
   "metadata": {},
   "outputs": [
    {
     "name": "stdout",
     "output_type": "stream",
     "text": [
      "{'securityPolicyDetail': {'createdDate': 1724211618059,\n",
      "                          'lastModifiedDate': 1724211618059,\n",
      "                          'name': 'media-search-229-sp-notebook',\n",
      "                          'policy': {'Rules': [{'Resource': ['collection/media-search-229'],\n",
      "                                                'ResourceType': 'collection'}],\n",
      "                                     'AWSOwnedKey': True},\n",
      "                          'policyVersion': 'MTcyNDIxMTYxODA1OV8x',\n",
      "                          'type': 'encryption'},\n",
      " 'ResponseMetadata': {'RequestId': '7ca6625d-d164-49c8-97fc-220ddfae63f9',\n",
      "                      'HTTPStatusCode': 200,\n",
      "                      'HTTPHeaders': {'x-amzn-requestid': '7ca6625d-d164-49c8-97fc-220ddfae63f9',\n",
      "                                      'date': 'Wed, 21 Aug 2024 03:40:18 GMT',\n",
      "                                      'content-type': 'application/x-amz-json-1.0',\n",
      "                                      'content-length': '297',\n",
      "                                      'connection': 'keep-alive'},\n",
      "                      'RetryAttempts': 0}}\n"
     ]
    }
   ],
   "source": [
    "# create the security policy \n",
    "encryption_policy_name = f\"{collection_name}-sp-notebook\"\n",
    "\n",
    "encryption_policy = oss_client.create_security_policy(\n",
    "    name=encryption_policy_name,\n",
    "    policy=json.dumps(\n",
    "        {\n",
    "            'Rules': [{'Resource': ['collection/' + collection_name],\n",
    "                       'ResourceType': 'collection'}],\n",
    "            'AWSOwnedKey': True\n",
    "        }),\n",
    "        type='encryption'\n",
    "    )\n",
    "pprint.pp(encryption_policy)"
   ]
  },
  {
   "cell_type": "code",
   "execution_count": 8,
   "id": "ebdf2fc6-1b47-410f-8bb1-523eb544f479",
   "metadata": {},
   "outputs": [
    {
     "name": "stdout",
     "output_type": "stream",
     "text": [
      "{'securityPolicyDetail': {'createdDate': 1724211620293,\n",
      "                          'lastModifiedDate': 1724211620293,\n",
      "                          'name': 'media-search-229-np-notebook',\n",
      "                          'policy': [{'Rules': [{'Resource': ['collection/media-search-229'],\n",
      "                                                 'ResourceType': 'collection'}],\n",
      "                                      'AllowFromPublic': True}],\n",
      "                          'policyVersion': 'MTcyNDIxMTYyMDI5M18x',\n",
      "                          'type': 'network'},\n",
      " 'ResponseMetadata': {'RequestId': 'cbaea349-de68-47b5-bd17-9f6b1f1a1ee7',\n",
      "                      'HTTPStatusCode': 200,\n",
      "                      'HTTPHeaders': {'x-amzn-requestid': 'cbaea349-de68-47b5-bd17-9f6b1f1a1ee7',\n",
      "                                      'date': 'Wed, 21 Aug 2024 03:40:20 GMT',\n",
      "                                      'content-type': 'application/x-amz-json-1.0',\n",
      "                                      'content-length': '300',\n",
      "                                      'connection': 'keep-alive'},\n",
      "                      'RetryAttempts': 0}}\n"
     ]
    }
   ],
   "source": [
    "# create the network policy \n",
    "network_policy_name = f\"{collection_name}-np-notebook\"\n",
    "network_policy = oss_client.create_security_policy(\n",
    "    name=network_policy_name,\n",
    "    policy=json.dumps(\n",
    "        [\n",
    "            {'Rules': [{'Resource': ['collection/' + collection_name],\n",
    "                        'ResourceType': 'collection'}],\n",
    "             'AllowFromPublic': True}\n",
    "        ]),\n",
    "        type='network'\n",
    "    )\n",
    "\n",
    "pprint.pp(network_policy)"
   ]
  },
  {
   "cell_type": "markdown",
   "id": "3ec7e5dc-96b3-46e2-a5e6-89f209377847",
   "metadata": {},
   "source": [
    "We are now ready to create the OSS collection and index. The following cells creates a collection, index as well as the index schema required to house our metadata including a vector field to store our embeddings. An search_client (of type opensearch) is created in order to create the index and issue various calls to OSS. "
   ]
  },
  {
   "cell_type": "code",
   "execution_count": 9,
   "id": "8d147ebc-2968-4624-8b59-d45cb2c2c447",
   "metadata": {},
   "outputs": [
    {
     "name": "stdout",
     "output_type": "stream",
     "text": [
      "OSS host: vpdj3ctgv0rmukhasyi.us-east-1.aoss.amazonaws.com\n"
     ]
    }
   ],
   "source": [
    "# create the collection of type vector search\n",
    "oss_client = boto3.client('opensearchserverless')\n",
    "collection = oss_client.create_collection(name=collection_name, type='VECTORSEARCH')\n",
    "collection_id = collection['createCollectionDetail']['id']\n",
    "host = collection_id + '.' + region_name + '.aoss.amazonaws.com'\n",
    "print(\"OSS host: {0}\".format(host))\n",
    "\n",
    "# create the OSS client\n",
    "service = 'aoss'\n",
    "credentials = boto3.Session().get_credentials()\n",
    "awsauth = AWSV4SignerAuth(credentials, region_name, service)\n",
    "\n",
    "# Build the OpenSearch client\n",
    "search_client = OpenSearch(\n",
    "    hosts=[{'host': host, 'port': 443}],\n",
    "    http_auth=awsauth,\n",
    "    use_ssl=True,\n",
    "    verify_certs=True,\n",
    "    connection_class=RequestsHttpConnection,\n",
    "    timeout=300\n",
    ")\n",
    "# # It can take up to a minute for data access rules to be enforced\n",
    "time.sleep(60)"
   ]
  },
  {
   "cell_type": "markdown",
   "id": "44be9634-ded3-4909-bf24-e24212fc1daf",
   "metadata": {},
   "source": [
    "### Defining the Opensearchserverless index\n",
    "The following cell defines a OSS index schema for our dataset as well as creating the index via the OSS client. "
   ]
  },
  {
   "cell_type": "code",
   "execution_count": 11,
   "id": "fd4bf5c6-aad0-468e-aa9c-c814cc5b3066",
   "metadata": {},
   "outputs": [
    {
     "name": "stdout",
     "output_type": "stream",
     "text": [
      "response received for the create index -> {'acknowledged': True, 'shards_acknowledged': True, 'index': 'smart-search-index'}\n"
     ]
    }
   ],
   "source": [
    "index_name = 'smart-search-index'\n",
    "index_body = {\n",
    "   \"settings\": {\n",
    "      \"index.knn\": \"true\"\n",
    "   },\n",
    "   \"mappings\": {\n",
    "      \"properties\": {\n",
    "          \"image_vector\": {\n",
    "              \"type\": \"knn_vector\",\n",
    "              \"dimension\": 1024 # Embedding size for Amanon Titan Multimodal Embedding G1 model, it is 1,024 (default), 384, 256\n",
    "          },\n",
    "          \"image_id\" : {\"type\": \"text\"},\n",
    "          \"path\": {\"type\": \"text\"},\n",
    "          \"title\": {\"type\": \"text\"},\n",
    "          \"description\": {\"type\": \"text\"},\n",
    "          \"keywords\": {\"type\": \"text\"},\n",
    "          \"tags\": {\"type\": \"text\"}\n",
    "      }\n",
    "   }\n",
    "}\n",
    "\n",
    "# We would get an index already exists exception if the index already exists, and that is fine.\n",
    "try:\n",
    "    response = search_client.indices.create(index_name, body=index_body)\n",
    "    print(f\"response received for the create index -> {response}\")\n",
    "except Exception as e:\n",
    "    print(f\"error in creating index={index_name}, exception={e}\")"
   ]
  },
  {
   "cell_type": "code",
   "execution_count": 13,
   "id": "b4ade0bb-b01e-439a-8db8-520f57d73759",
   "metadata": {},
   "outputs": [
    {
     "name": "stdout",
     "output_type": "stream",
     "text": [
      "{'smart-search-index': {'mappings': {'properties': {'description': {'type': 'text'},\n",
      "                                                    'image_id': {'type': 'text'},\n",
      "                                                    'image_vector': {'type': 'knn_vector',\n",
      "                                                                     'dimension': 1024},\n",
      "                                                    'keywords': {'type': 'text'},\n",
      "                                                    'path': {'type': 'text'},\n",
      "                                                    'tags': {'type': 'text'},\n",
      "                                                    'title': {'type': 'text'}}}}}\n",
      "{'smart-search-index': {'settings': {'index': {'knn': 'true',\n",
      "                                               'number_of_shards': '2',\n",
      "                                               'number_of_replicas': '0',\n",
      "                                               'uuid': '4cgHc5EBSSHZ9_4rQ5K8',\n",
      "                                               'version': {'created': '135217827'},\n",
      "                                               'provided_name': 'smart-search-index'}}}}\n",
      "{'smart-search-index': {'aliases': {}}}\n"
     ]
    }
   ],
   "source": [
    "#display information on the index you just created\n",
    "\n",
    "# Get index mapping\n",
    "response = search_client.indices.get_mapping(index=index_name)\n",
    "pprint.pp(response)\n",
    "\n",
    "# Get index settings\n",
    "response = search_client.indices.get_settings(index=index_name)\n",
    "pprint.pp(response)\n",
    "\n",
    "# Get index aliases\n",
    "response = search_client.indices.get_alias(index=index_name) \n",
    "pprint.pp(response)"
   ]
  },
  {
   "cell_type": "code",
   "execution_count": null,
   "id": "ea5a6f5c-606e-48fa-86d3-d8a0cb3f0cd8",
   "metadata": {},
   "outputs": [],
   "source": [
    "# deleting indices\n",
    "# search_client.indices.delete(index=index_name)"
   ]
  },
  {
   "cell_type": "markdown",
   "id": "f5041143-50e1-4a38-9715-5941597785e5",
   "metadata": {},
   "source": [
    "## Loading the data in the index \n",
    "\n",
    "The index is created and ready for use. The following cells will attempt to reload data from the previous notebook and populate the index before we can issue any queries. \n",
    "If there any issues with the variable, uncomment the line to reload the dataset from CSV file saved in notebook 2. "
   ]
  },
  {
   "cell_type": "code",
   "execution_count": 27,
   "id": "ef5ce7e0-60f8-49b6-bb07-14abda24e34c",
   "metadata": {},
   "outputs": [],
   "source": [
    "# load the dataset from notebook 2 \n",
    "%store -r df_metadata\n",
    "# df_metadata = pd.read_csv('./data/enriched_dataset.csv')\n",
    "df_metadata.head()"
   ]
  },
  {
   "cell_type": "markdown",
   "id": "d72cde00-29fb-40f1-9ac4-75a1b7b86021",
   "metadata": {},
   "source": []
  },
  {
   "cell_type": "markdown",
   "id": "91ce5e47-59ee-40d6-8784-41418991f5ac",
   "metadata": {},
   "source": [
    "Load the entire contents of the dataframe into opensearch index. The following cell does this simply by iterating over the dataframe and processing each row and insert into the index. "
   ]
  },
  {
   "cell_type": "code",
   "execution_count": 30,
   "id": "8ffb5691-ed39-4dc5-aa50-d6868a961d4e",
   "metadata": {},
   "outputs": [
    {
     "data": {
      "application/vnd.jupyter.widget-view+json": {
       "model_id": "596a58d866654ecc911cbbf6d62bdd9c",
       "version_major": 2,
       "version_minor": 0
      },
      "text/plain": [
       "  0%|          | 0/292 [00:00<?, ?it/s]"
      ]
     },
     "metadata": {},
     "output_type": "display_data"
    },
    {
     "name": "stdout",
     "output_type": "stream",
     "text": [
      "CPU times: user 1.34 s, sys: 125 ms, total: 1.46 s\n",
      "Wall time: 1min 10s\n"
     ]
    }
   ],
   "source": [
    "%%time\n",
    "from tqdm import tqdm\n",
    "import tqdm.notebook as tq\n",
    "\n",
    "for idx, record in tq.tqdm(df_metadata.iterrows(), total=len(df_metadata)):\n",
    "    document = {\n",
    "        'image_vector': df_metadata['embeddings'][idx],\n",
    "        \"description\":   df_metadata['description'][idx],\n",
    "        \"image_id\" : df_metadata['image_id'][idx],\n",
    "        \"image_url\": df_metadata['path'][idx],\n",
    "        \"title\": df_metadata['title'][idx],\n",
    "        \"keywords\": df_metadata['keywords'][idx],\n",
    "        \"tags\": df_metadata['tags'][idx],\n",
    "    }\n",
    "    response = search_client.index(\n",
    "        index = index_name,\n",
    "        body = document\n",
    "    )"
   ]
  },
  {
   "cell_type": "code",
   "execution_count": 34,
   "id": "ffd63f4f-ca94-4839-9fa5-a8e7f4e401e6",
   "metadata": {},
   "outputs": [
    {
     "name": "stdout",
     "output_type": "stream",
     "text": [
      "Stored 'index_name' (str)\n",
      "Stored 'collection_name' (str)\n",
      "Stored 'host' (str)\n"
     ]
    }
   ],
   "source": [
    "# save variables for use in search notebook\n",
    "%store index_name\n",
    "%store collection_name\n",
    "%store host"
   ]
  },
  {
   "cell_type": "code",
   "execution_count": null,
   "id": "d7f8a504-6119-4033-a44c-109adc23ea46",
   "metadata": {},
   "outputs": [],
   "source": []
  }
 ],
 "metadata": {
  "kernelspec": {
   "display_name": "Python 3 (ipykernel)",
   "language": "python",
   "name": "python3"
  },
  "language_info": {
   "codemirror_mode": {
    "name": "ipython",
    "version": 3
   },
   "file_extension": ".py",
   "mimetype": "text/x-python",
   "name": "python",
   "nbconvert_exporter": "python",
   "pygments_lexer": "ipython3",
   "version": "3.10.14"
  }
 },
 "nbformat": 4,
 "nbformat_minor": 5
}
