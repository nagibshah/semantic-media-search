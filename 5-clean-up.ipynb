{
 "cells": [
  {
   "cell_type": "markdown",
   "id": "732bc9ce-619a-4a2d-8a9f-21f716c2671b",
   "metadata": {},
   "source": [
    "# [Optional] Clean up\n",
    "\n",
    "Execute the below cells if you want to delete your OpenSearch collection and associated encryption, networking and data access policies\n",
    "\n",
    "In the following code cell, previously saved variables (collection_id, encryption_policy_name, and network_policy_name) are being loaded from the notebook's storage using the %store -r magic command in Jupyter Notebook. These variables were likely defined and stored in earlier code cells or notebooks, and are now being retrieved for use in subsequent computations or operations within this notebook."
   ]
  },
  {
   "cell_type": "code",
   "execution_count": null,
   "id": "04475a74-59d7-4053-82fc-bdcc5b72b335",
   "metadata": {},
   "outputs": [],
   "source": [
    "# load the saved variables \n",
    "%store -r index_name\n",
    "%store -r data_access_policy_name_nb\n",
    "%store -r network_policy_name\n",
    "%store -r encryption_policy_name\n",
    "%store -r aossAccessPolicyArn\n",
    "%store -r collection_name\n",
    "%store -r host"
   ]
  },
  {
   "cell_type": "markdown",
   "id": "8b64738b-1f3a-4544-8938-fb215ace5658",
   "metadata": {},
   "source": [
    "In the following code cell, an instance of the AWS boto3 client for OpenSearch Serverless is created. This client allows you to interact with the OpenSearch Serverless service, which is a fully managed search and analytics service provided by AWS. The code then prints a message indicating that it will delete the specified collection and associated policies, such as encryption policy, network policy, and data access policy, based on the provided identifiers and names."
   ]
  },
  {
   "cell_type": "code",
   "execution_count": null,
   "id": "80e8e496-e5fa-497b-944a-783aed4f2573",
   "metadata": {},
   "outputs": [],
   "source": [
    "import boto3\n",
    "\n",
    "# Create OpenSearch Serverless client\n",
    "client = boto3.client('opensearchserverless')\n",
    "\n",
    "print(f\"You are about to delete the following collection: {collection_name}\\nand the below policies:\\n{encryption_policy_name},\\n{network_policy_name},\\n{data_access_policy_name_nb}, \\n{ data_access_policy_name_nb},\\n{aossAccessPolicyArn}\")"
   ]
  },
  {
   "cell_type": "markdown",
   "id": "49c1b8af-24ed-4bb4-a329-7859c1c9f83c",
   "metadata": {},
   "source": [
    "In the following cell, we will delete the collection"
   ]
  },
  {
   "cell_type": "code",
   "execution_count": null,
   "id": "a921c39c-3359-4cf9-9798-1cbac466b15c",
   "metadata": {},
   "outputs": [],
   "source": [
    "import random\n",
    "try:\n",
    "    # Delete the collection\n",
    "    response = client.delete_collection(\n",
    "        clientToken='unique-token' + str(random.randint(1000, 9999)),\n",
    "        id=collection_name\n",
    "    )\n",
    "    print(f\"Collection deleted: {response['deleteCollectionDetail']['id']}\")\n",
    "except Exception as e:\n",
    "    print(f\"Error deleting collection: {e}\")"
   ]
  },
  {
   "cell_type": "code",
   "execution_count": null,
   "id": "6de60ca1-e148-4d64-8055-e4fa94a2801f",
   "metadata": {},
   "outputs": [],
   "source": [
    "# Delete the network policy\n",
    "try:\n",
    "    response = client.delete_security_policy(\n",
    "        name=network_policy_name,\n",
    "        type='network'\n",
    "    )\n",
    "    print(\"Network policy deleted\")\n",
    "except client.exceptions.ResourceNotFoundException:\n",
    "    print(\"Network policy not found\")\n",
    "except Exception as e:\n",
    "    print(f\"Error deleting network policy: {e}\")"
   ]
  },
  {
   "cell_type": "code",
   "execution_count": null,
   "id": "0547159c-9125-4e46-822a-f8ea410202f0",
   "metadata": {},
   "outputs": [],
   "source": [
    "# Delete the encryption policy\n",
    "try:\n",
    "    response = client.delete_security_policy(\n",
    "        name=encryption_policy_name,\n",
    "        type='encryption'\n",
    "    )\n",
    "    print(\"Encryption policy deleted\")\n",
    "except client.exceptions.ResourceNotFoundException:\n",
    "    print(\"Encryption policy not found\")\n",
    "except Exception as e:\n",
    "    print(f\"Error deleting encryption policy: {e}\")"
   ]
  },
  {
   "cell_type": "code",
   "execution_count": null,
   "id": "0e8fd63c-6c7c-412f-9c22-878d0859276e",
   "metadata": {},
   "outputs": [],
   "source": [
    "# Delete the data access policy\n",
    "try:\n",
    "    response = client.delete_access_policy(\n",
    "        name=data_access_policy_name_nb,\n",
    "        type='data'\n",
    "    )\n",
    "    print(\"Data access policy deleted\")\n",
    "except client.exceptions.ResourceNotFoundException:\n",
    "    print(\"Data access policy not found\")\n",
    "except Exception as e:\n",
    "    print(f\"Error deleting data access policy: {e}\")    "
   ]
  },
  {
   "cell_type": "markdown",
   "id": "b8bd580b-b184-466d-9efe-c1c496e79a03",
   "metadata": {},
   "source": [
    "In the following code cell, we will delete the AOSSAccessPolicy using IAM Client. TO delete the policy, first we will detach it from logged in user/role"
   ]
  },
  {
   "cell_type": "code",
   "execution_count": null,
   "id": "64049509-8fdc-4a43-afa7-0a428a87ad26",
   "metadata": {},
   "outputs": [],
   "source": [
    "# Delete AOSSAccessPolicy\n",
    "\n",
    "# Create an IAM client\n",
    "iam = boto3.client('iam')\n",
    "\n",
    "#First we will detach the aossaccesspolicy from the logged in user/role\n",
    "try:\n",
    "    # Try to get the user information\n",
    "    user = iam.get_user(UserName=identity_arn.split('/')[-1])\n",
    "    print(f\"The identity ARN '{identity_arn}' is for a user.\")\n",
    "\n",
    "    # Detach the policy to the user\n",
    "    iam.detach_user_policy(\n",
    "        UserName=user['User']['UserName'],\n",
    "        PolicyArn=aossAccessPolicyArn\n",
    "    )\n",
    "\n",
    "except iam.exceptions.NoSuchEntityException:\n",
    "    # If the identity ARN is not for a user, it must be for a role\n",
    "    print(f\"The identity ARN '{identity_arn}' is for a role.\")\n",
    "\n",
    "    # Detach the policy from the role\n",
    "    iam.detach_role_policy(\n",
    "        RoleName=identity_arn.split('/')[-1],\n",
    "        PolicyArn=aossAccessPolicyArn\n",
    "    )\n",
    "\n",
    "# Delete the aossaccesspolicy \n",
    "try:\n",
    "    response = iam.delete_policy(\n",
    "       PolicyArn=aossAccessPolicyArn\n",
    "    )\n",
    "    print(\"IAM policy deleted\")\n",
    "except client.exceptions.ResourceNotFoundException:\n",
    "    print(\"IAM policy not found\")\n",
    "except Exception as e:\n",
    "    print(f\"Error deleting IAM policy: {e}\")  "
   ]
  }
 ],
 "metadata": {
  "kernelspec": {
   "display_name": "Python 3 (ipykernel)",
   "language": "python",
   "name": "python3"
  },
  "language_info": {
   "codemirror_mode": {
    "name": "ipython",
    "version": 3
   },
   "file_extension": ".py",
   "mimetype": "text/x-python",
   "name": "python",
   "nbconvert_exporter": "python",
   "pygments_lexer": "ipython3",
   "version": "3.10.14"
  }
 },
 "nbformat": 4,
 "nbformat_minor": 5
}
